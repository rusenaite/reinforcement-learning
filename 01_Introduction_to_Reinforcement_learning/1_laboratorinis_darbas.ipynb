{
  "cells": [
    {
      "cell_type": "code",
      "execution_count": null,
      "metadata": {
        "colab": {
          "base_uri": "https://localhost:8080/"
        },
        "id": "KIUL0YInLWOC",
        "outputId": "c9e80040-df23-43f8-f9f4-a128386e25cd"
      },
      "outputs": [
        {
          "name": "stdout",
          "output_type": "stream",
          "text": [
            "Vertės funkcija:\n",
            "[[0.95099005 0.96059601 0.970299   0.96059601]\n",
            " [0.96059601 0.         0.9801     0.        ]\n",
            " [0.970299   0.9801     0.99       0.        ]\n",
            " [0.         0.99       1.         0.        ]]\n",
            "\n",
            "Optimali politika (veiksmų indeksai):\n",
            "[[1. 2. 1. 0.]\n",
            " [1. 0. 1. 0.]\n",
            " [2. 1. 1. 0.]\n",
            " [0. 2. 2. 0.]]\n",
            "\n",
            "Politika simboliais:\n",
            "↓ → ↓ ←\n",
            "↓ ← ↓ ←\n",
            "→ ↓ ↓ ←\n",
            "← → → ←\n"
          ]
        },
        {
          "name": "stderr",
          "output_type": "stream",
          "text": [
            "/usr/local/lib/python3.11/dist-packages/gym/core.py:317: DeprecationWarning: \u001b[33mWARN: Initializing wrapper in old step API which returns one bool instead of two. It is recommended to set `new_step_api=True` to use new step API. This will be the default behaviour in future.\u001b[0m\n",
            "  deprecation(\n",
            "/usr/local/lib/python3.11/dist-packages/gym/wrappers/step_api_compatibility.py:39: DeprecationWarning: \u001b[33mWARN: Initializing environment in old step API which returns one bool instead of two. It is recommended to set `new_step_api=True` to use new step API. This will be the default behaviour in future.\u001b[0m\n",
            "  deprecation(\n"
          ]
        }
      ],
      "source": [
        "# Dinaminio programavimo taikymas: Vertės iteracija FrozenLake aplinkoje\n",
        "\n",
        "# Reikalingos bibliotekos\n",
        "import numpy as np\n",
        "import gym\n",
        "import matplotlib.pyplot as plt\n",
        "\n",
        "# Aplinkos paruošimas\n",
        "env = gym.make(\"FrozenLake-v1\", is_slippery=False)  # Naudojame deterministinę versiją, STABILIAM ELGESIUI\n",
        "env.reset()\n",
        "\n",
        "# Vertės iteracijos algoritmas\n",
        "def value_iteration(env, gamma=0.99, theta=1e-8):\n",
        "    value_table = np.zeros(env.observation_space.n)  # Pradinės vertės\n",
        "    policy = np.zeros(env.observation_space.n)\n",
        "\n",
        "    while True:\n",
        "        delta = 0\n",
        "        for state in range(env.observation_space.n):\n",
        "            action_values = []\n",
        "            for action in range(env.action_space.n):\n",
        "                q_value = 0\n",
        "                for prob, next_state, reward, done in env.P[state][action]:\n",
        "                    q_value += prob * (reward + gamma * value_table[next_state])\n",
        "                action_values.append(q_value)\n",
        "\n",
        "            max_value = max(action_values)\n",
        "            delta = max(delta, abs(value_table[state] - max_value))\n",
        "            value_table[state] = max_value\n",
        "\n",
        "        if delta < theta:\n",
        "            break\n",
        "\n",
        "    # Optimalios politikos sudarymas\n",
        "    for state in range(env.observation_space.n):\n",
        "        action_values = []\n",
        "        for action in range(env.action_space.n):\n",
        "            q_value = 0\n",
        "            for prob, next_state, reward, done in env.P[state][action]:\n",
        "                q_value += prob * (reward + gamma * value_table[next_state])\n",
        "            action_values.append(q_value)\n",
        "        policy[state] = np.argmax(action_values)\n",
        "\n",
        "    return value_table, policy\n",
        "\n",
        "# Vertės iteracijos vykdymas\n",
        "value_table, optimal_policy = value_iteration(env)\n",
        "\n",
        "print(\"Vertės funkcija:\")\n",
        "print(value_table.reshape(4, 4))  # Atvaizduojame 4x4 tinklelyje\n",
        "\n",
        "print(\"\\nOptimali politika (veiksmų indeksai):\")\n",
        "print(optimal_policy.reshape(4, 4))\n",
        "\n",
        "# Politikos simbolinė vizualizacija\n",
        "action_symbols = ['←', '↓', '→', '↑']\n",
        "policy_symbols = [action_symbols[int(a)] for a in optimal_policy]\n",
        "policy_grid = np.array(policy_symbols).reshape(4, 4)\n",
        "print(\"\\nPolitika simboliais:\")\n",
        "for row in policy_grid:\n",
        "    print(' '.join(row))\n"
      ]
    },
    {
      "cell_type": "markdown",
      "metadata": {
        "id": "zngMAWF1UBcR"
      },
      "source": [
        "Būsenos su aukštesnėmis vertėmis rodo optimalius veiksmus, kad pasiektume tikslą, ir tokiose vietose atlikti optimalūs veiksmai! (Išeiti iš labirinto, pasiekti pabaigą ir t.t.\n",
        ")"
      ]
    },
    {
      "cell_type": "markdown",
      "metadata": {
        "id": "THMUX6mcUjca"
      },
      "source": [
        "Kuo arčiau būsenos su tikslo vieta, tuo didesnės vertės jos turi, nes tikslas yra pasiekiamas iš jų su didesne tikimybe.\n"
      ]
    },
    {
      "cell_type": "markdown",
      "metadata": {
        "id": "r3uqMDcpLkvs"
      },
      "source": [
        "SKIRTINGOS GAMMA"
      ]
    },
    {
      "cell_type": "markdown",
      "metadata": {
        "id": "VKZlF1dCWabQ"
      },
      "source": [
        "Gamma (γ) yra nuolaidos (angl. discount factor) parametras, kuris yra svarbus daugelyje reinforcement learning (RL) algoritmų, įskaitant vertės iteraciją ir politikos iteraciją.\n",
        "\n",
        "Jis nusako, kaip agentas vertina ateities atlygius, palyginti su dabartiniais atlygiais.\n",
        "\n",
        "Ką reiškia gamma?\n",
        "𝛾\n",
        "γ reikšmė yra intervale nuo 0 iki 1.\n",
        "\n",
        "𝛾\n",
        "=\n",
        "0\n",
        "γ=0 reiškia, kad agentas visiškai ignoruoja ateities atlygius ir labiausiai vertina tik dabartinius atlygius.\n",
        "\n",
        "𝛾\n",
        "=\n",
        "1\n",
        "γ=1 reiškia, kad agentas visiškai vertina tiek dabartinius, tiek ateities atlygius. Kiekvienas būsimos naudos gabalas yra vertinamas taip pat, kaip ir dabartinė nauda.\n",
        "\n",
        "0 <\n",
        "𝛾\n",
        "γ < 1 reiškia, kad agentas vertina tiek dabartinius, tiek ateities atlygius, tačiau ateities atlygiai yra šiek tiek mažiau vertinami nei dabartiniai."
      ]
    },
    {
      "cell_type": "code",
      "execution_count": null,
      "metadata": {
        "colab": {
          "base_uri": "https://localhost:8080/"
        },
        "id": "VA5YhBjhU_Ex",
        "outputId": "ef9724a8-f80a-48f7-ba72-00f0760f9956"
      },
      "outputs": [
        {
          "name": "stdout",
          "output_type": "stream",
          "text": [
            "Gamma = 0.9\n",
            "Vertės funkcija:\n",
            "[[0.59049 0.6561  0.729   0.6561 ]\n",
            " [0.6561  0.      0.81    0.     ]\n",
            " [0.729   0.81    0.9     0.     ]\n",
            " [0.      0.9     1.      0.     ]]\n",
            "\n",
            "Optimali politika (veiksmų indeksai):\n",
            "[[1. 2. 1. 0.]\n",
            " [1. 0. 1. 0.]\n",
            " [2. 1. 1. 0.]\n",
            " [0. 2. 2. 0.]]\n",
            "Gamma = 0.95\n",
            "Vertės funkcija:\n",
            "[[0.77378094 0.81450625 0.857375   0.81450625]\n",
            " [0.81450625 0.         0.9025     0.        ]\n",
            " [0.857375   0.9025     0.95       0.        ]\n",
            " [0.         0.95       1.         0.        ]]\n",
            "\n",
            "Optimali politika (veiksmų indeksai):\n",
            "[[1. 2. 1. 0.]\n",
            " [1. 0. 1. 0.]\n",
            " [2. 1. 1. 0.]\n",
            " [0. 2. 2. 0.]]\n",
            "Gamma = 0.99\n",
            "Vertės funkcija:\n",
            "[[0.95099005 0.96059601 0.970299   0.96059601]\n",
            " [0.96059601 0.         0.9801     0.        ]\n",
            " [0.970299   0.9801     0.99       0.        ]\n",
            " [0.         0.99       1.         0.        ]]\n",
            "\n",
            "Optimali politika (veiksmų indeksai):\n",
            "[[1. 2. 1. 0.]\n",
            " [1. 0. 1. 0.]\n",
            " [2. 1. 1. 0.]\n",
            " [0. 2. 2. 0.]]\n"
          ]
        }
      ],
      "source": [
        "import numpy as np\n",
        "import gym\n",
        "import matplotlib.pyplot as plt\n",
        "\n",
        "# Aplinkos paruošimas\n",
        "env = gym.make(\"FrozenLake-v1\", is_slippery=False)\n",
        "env.reset()\n",
        "\n",
        "# Vertės iteracijos algoritmas\n",
        "def value_iteration(env, gamma=0.99, theta=1e-8):\n",
        "    value_table = np.zeros(env.observation_space.n)\n",
        "    policy = np.zeros(env.observation_space.n)\n",
        "\n",
        "    while True:\n",
        "        delta = 0\n",
        "        for state in range(env.observation_space.n):\n",
        "            action_values = []\n",
        "            for action in range(env.action_space.n):\n",
        "                q_value = 0\n",
        "                for prob, next_state, reward, done in env.P[state][action]:\n",
        "                    q_value += prob * (reward + gamma * value_table[next_state])\n",
        "                action_values.append(q_value)\n",
        "\n",
        "            max_value = max(action_values)\n",
        "            delta = max(delta, abs(value_table[state] - max_value))\n",
        "            value_table[state] = max_value\n",
        "\n",
        "        if delta < theta:\n",
        "            break\n",
        "\n",
        "    # Optimalios politikos sudarymas\n",
        "    for state in range(env.observation_space.n):\n",
        "        action_values = []\n",
        "        for action in range(env.action_space.n):\n",
        "            q_value = 0\n",
        "            for prob, next_state, reward, done in env.P[state][action]:\n",
        "                q_value += prob * (reward + gamma * value_table[next_state])\n",
        "            action_values.append(q_value)\n",
        "        policy[state] = np.argmax(action_values)\n",
        "\n",
        "    return value_table, policy\n",
        "\n",
        "# Eksperimentavimas su skirtingais `gamma` reikšmėmis\n",
        "gamma_values = [0.9, 0.95, 0.99]\n",
        "for gamma in gamma_values:\n",
        "    print(f\"Gamma = {gamma}\")\n",
        "    value_table, optimal_policy = value_iteration(env, gamma=gamma)\n",
        "    print(\"Vertės funkcija:\")\n",
        "    print(value_table.reshape(4, 4))  # Atvaizduojame 4x4 tinklelyje\n",
        "    print(\"\\nOptimali politika (veiksmų indeksai):\")\n",
        "    print(optimal_policy.reshape(4, 4))\n"
      ]
    },
    {
      "cell_type": "markdown",
      "metadata": {
        "id": "LGbLg5lkWvuZ"
      },
      "source": [
        "Mažas\n",
        "𝛾\n",
        "γ gali priversti agentą priimti „trumpalaikius“ sprendimus, dažnai pasitenkinant mažais, tačiau greitais apdovanojimais.\n",
        "\n",
        "Didelis\n",
        "𝛾\n",
        "γ skatina agentą priimti „ilgo laikotarpio“ sprendimus, kurie dažnai reikalauja „kantrybės“ ir veda į didesnius apdovanojimus ateityje."
      ]
    },
    {
      "cell_type": "code",
      "execution_count": null,
      "metadata": {
        "colab": {
          "base_uri": "https://localhost:8080/"
        },
        "id": "cQp6KFJrVTt4",
        "outputId": "f96ed1ff-2614-4384-9992-02cc4228b1bd"
      },
      "outputs": [
        {
          "name": "stdout",
          "output_type": "stream",
          "text": [
            "Pradinis taškas: 7\n",
            "Vertės funkcija:\n",
            "[[0.95099005 0.96059601 0.970299   0.96059601]\n",
            " [0.96059601 0.         0.9801     0.        ]\n",
            " [0.970299   0.9801     0.99       0.        ]\n",
            " [0.         0.99       1.         0.        ]]\n",
            "\n",
            "Optimali politika (veiksmų indeksai):\n",
            "[[1. 2. 1. 0.]\n",
            " [1. 0. 1. 0.]\n",
            " [2. 1. 1. 0.]\n",
            " [0. 2. 2. 0.]]\n"
          ]
        }
      ],
      "source": [
        "import numpy as np\n",
        "import gym\n",
        "import random\n",
        "\n",
        "# Aplinkos paruošimas\n",
        "env = gym.make(\"FrozenLake-v1\", is_slippery=False)\n",
        "\n",
        "# Atsitiktinis pradinis taškas\n",
        "def random_start_state():\n",
        "    return random.randint(0, env.observation_space.n - 1)\n",
        "\n",
        "# Vertės iteracijos algoritmas su atsitiktiniu pradžios tašku\n",
        "def value_iteration_random_start(env, gamma=0.99, theta=1e-8):\n",
        "    value_table = np.zeros(env.observation_space.n)\n",
        "    policy = np.zeros(env.observation_space.n)\n",
        "\n",
        "    # Nustatome atsitiktinį pradžios tašką\n",
        "    start_state = random_start_state()\n",
        "    print(f\"Pradinis taškas: {start_state}\")\n",
        "\n",
        "    while True:\n",
        "        delta = 0\n",
        "        for state in range(env.observation_space.n):\n",
        "            action_values = []\n",
        "            for action in range(env.action_space.n):\n",
        "                q_value = 0\n",
        "                for prob, next_state, reward, done in env.P[state][action]:\n",
        "                    q_value += prob * (reward + gamma * value_table[next_state])\n",
        "                action_values.append(q_value)\n",
        "\n",
        "            max_value = max(action_values)\n",
        "            delta = max(delta, abs(value_table[state] - max_value))\n",
        "            value_table[state] = max_value\n",
        "\n",
        "        if delta < theta:\n",
        "            break\n",
        "\n",
        "    # Optimalios politikos sudarymas\n",
        "    for state in range(env.observation_space.n):\n",
        "        action_values = []\n",
        "        for action in range(env.action_space.n):\n",
        "            q_value = 0\n",
        "            for prob, next_state, reward, done in env.P[state][action]:\n",
        "                q_value += prob * (reward + gamma * value_table[next_state])\n",
        "            action_values.append(q_value)\n",
        "        policy[state] = np.argmax(action_values)\n",
        "\n",
        "    return value_table, policy\n",
        "\n",
        "# Vertės iteracijos vykdymas su atsitiktiniu pradžios tašku\n",
        "value_table, optimal_policy = value_iteration_random_start(env)\n",
        "\n",
        "print(\"Vertės funkcija:\")\n",
        "print(value_table.reshape(4, 4))\n",
        "print(\"\\nOptimali politika (veiksmų indeksai):\")\n",
        "print(optimal_policy.reshape(4, 4))\n"
      ]
    }
  ],
  "metadata": {
    "colab": {
      "provenance": []
    },
    "kernelspec": {
      "display_name": "Python 3",
      "name": "python3"
    },
    "language_info": {
      "name": "python"
    }
  },
  "nbformat": 4,
  "nbformat_minor": 0
}
